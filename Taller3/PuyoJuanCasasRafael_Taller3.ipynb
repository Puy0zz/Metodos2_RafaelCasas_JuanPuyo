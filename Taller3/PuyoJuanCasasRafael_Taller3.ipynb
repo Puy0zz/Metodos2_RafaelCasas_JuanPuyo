{
  "cells": [
    {
      "cell_type": "markdown",
      "metadata": {
        "id": "0Z8Dn_z6Mb9b"
      },
      "source": [
        "# Taller 3\n",
        "\n",
        "## Métodos Computacionales 2\n",
        "\n",
        "Instrucciones: Suba el jupyter notebook **.ipynb** en la actividad de bloque neon. El archivo debe ser nombrado ApellidoNombreApellidoNombre_Taller3.ipynb, con su primer Apellido y Nombre de cada integrante de la pareja. **El archivo debe poder correr en google colab**\n",
        "\n",
        "Si un ejercicio demora **más de 10 segundos** en correr se considerará **incorrecto**.\n",
        "\n",
        "La simulación no debe demorar más de **30 segundos** en compilar y correr.\n",
        "\n",
        "No modifique el cuaderno, ni los modos de lectura de los archivos.\n",
        "\n",
        "**Entrega: Viernes 22 de Septiembre 11:59 pm**"
      ]
    },
    {
      "cell_type": "markdown",
      "metadata": {
        "id": "VvtNBbxJ0n7a"
      },
      "source": [
        "## Librerias"
      ]
    },
    {
      "cell_type": "code",
      "execution_count": 1,
      "metadata": {
        "id": "mmgcGeXk0pPA"
      },
      "outputs": [],
      "source": [
        "import time\n",
        "import numpy as np\n",
        "import scipy as sci\n",
        "import scipy.integrate as integrate\n",
        "import sympy as sym\n",
        "from sympy import symbols\n",
        "import pandas as pd\n",
        "import matplotlib.pyplot as plt\n",
        "from matplotlib import animation\n",
        "plt.style.use('dark_background')"
      ]
    },
    {
      "cell_type": "code",
      "execution_count": 2,
      "metadata": {
        "id": "0dwmjZUoDvLX"
      },
      "outputs": [],
      "source": [
        "from matplotlib import rc\n",
        "rc(\"animation\", html = \"jshtml\")\n",
        "sym.init_printing()\n",
        "#matplotlib.rcParams['animation.embed_limit'] = 2**128"
      ]
    },
    {
      "cell_type": "markdown",
      "metadata": {
        "id": "YF78rpJBEGqu"
      },
      "source": [
        "## Problema 1\n",
        "\n",
        "El siguiente codigo de C++ se obtienen los puntos de un tiro parabólico con los siguientes parametros,\n",
        "\n",
        "$x_0 = 0\\text{ m }$,\n",
        "$y_0 = 10\\text{ m }$,\n",
        "$v_{x0} = 10\\text{ m/s }$,\n",
        "$v_{y0} = 10\\text{ m }$,\n",
        "$t_f = 2.733 \\text{ s }$,\n",
        "$dt = 0.01 \\text{ s }$\n",
        "\n",
        "y tomando gravedad como,\n",
        "\n",
        "$g = 10 \\text{ m/s }^2$\n",
        "\n",
        "Además el código en python, y el script gráfican en matplotlib estos puntos,\n",
        "\n",
        "problema: Modificar el código de `C++` para incluir un tiro parabólico con fricción del aire y con las mismas condiciones iniciales usando el método de Runge-Kutta de 4to orden, al final debe gráficar el tiro parabólico normal y el tiro parabólico con fricción en la misma gráfica.\n",
        "\n",
        "Tome el coeficiente de fricción del aire y la masa como se definen en el archivo de C++.\n",
        "\n",
        "$b = 0.2 \\text{ kg/s }$,\n",
        "$m = 1 \\text{ kg }$.\n",
        "\n",
        "El método de Runge-Kutta para ecuaciones diferenciales de segundo orden tiene la forma,\n",
        "\n",
        " ![](https://raw.githubusercontent.com/diegour1/MetodosComputacionales2/main/Datafiles/runge%20kutta%202nd%20order.png)\n"
      ]
    },
    {
      "cell_type": "code",
      "execution_count": null,
      "metadata": {
        "colab": {
          "base_uri": "https://localhost:8080/"
        },
        "id": "rlVwvFt7EIew",
        "outputId": "4fb61bb0-874c-43db-8b27-3a5895f68da3"
      },
      "outputs": [
        {
          "name": "stdout",
          "output_type": "stream",
          "text": [
            "Overwriting parabolico.cpp\n"
          ]
        }
      ],
      "source": [
        "%%writefile parabolico.cpp\n",
        "\n",
        "#include <iostream>\n",
        "#include <vector>\n",
        "#include <fstream>\n",
        "#include <cmath>\n",
        "#define g 10.0\n",
        "#define m 1\n",
        "#define b 0.2\n",
        "\n",
        "using namespace std;\n",
        "\n",
        "int main() {\n",
        "    float x_init = 0;\n",
        "    float y_init = 10;\n",
        "    float vx_init = 10;\n",
        "    float vy_init = 10;\n",
        "\n",
        "    float dt = 0.01;\n",
        "    float t_total = 2.733;\n",
        "    cout << \"total_time:\" <<  t_total << endl;\n",
        "    int N = t_total/dt;\n",
        "    cout << N;\n",
        "\n",
        "    double pos_x[N];\n",
        "    double pos_y[N];\n",
        "\n",
        "    for(int i = 0; i <N; i++){\n",
        "        pos_x[i] = vx_init*i*dt;\n",
        "        pos_y[i] = y_init + vy_init*i*dt - 0.5*g*pow(i*dt, 2);\n",
        "    }\n",
        "\n",
        "    for(int i = 0; i <N; i++){\n",
        "        cout << pos_x[i] << \" \";\n",
        "        cout << pos_y[i] << \" \";\n",
        "    }\n",
        "\n",
        "    std::ofstream myfile;\n",
        "    myfile.open (\"x_values.csv\");\n",
        "    myfile << \"x,y\\n\";\n",
        "    for(int i = 0; i <N; i++){\n",
        "        myfile << pos_x[i] << \",\";\n",
        "        myfile << pos_y[i] << \"\\n\";\n",
        "    }\n",
        "    myfile.close();\n",
        "\n",
        "    // su codigo aqui\n",
        "\n",
        "\n",
        "\n",
        "    return 0;\n",
        "}"
      ]
    },
    {
      "cell_type": "code",
      "execution_count": null,
      "metadata": {
        "colab": {
          "base_uri": "https://localhost:8080/"
        },
        "id": "FYGuz7qSGSTs",
        "outputId": "cbec16bc-153c-4f74-ef4a-0eca2863edf9"
      },
      "outputs": [
        {
          "name": "stdout",
          "output_type": "stream",
          "text": [
            "total_time:2.733\n",
            "2730 10 0.1 10.0995 0.2 10.198 0.3 10.2955 0.4 10.392 0.5 10.4875 0.6 10.582 0.7 10.6755 0.8 10.768 0.9 10.8595 1 10.95 1.1 11.0395 1.2 11.128 1.3 11.2155 1.4 11.302 1.5 11.3875 1.6 11.472 1.7 11.5555 1.8 11.638 1.9 11.7195 2 11.8 2.1 11.8795 2.2 11.958 2.3 12.0355 2.4 12.112 2.5 12.1875 2.6 12.262 2.7 12.3355 2.8 12.408 2.9 12.4795 3 12.55 3.1 12.6195 3.2 12.688 3.3 12.7555 3.4 12.822 3.5 12.8875 3.6 12.952 3.7 13.0155 3.8 13.078 3.9 13.1395 4 13.2 4.1 13.2595 4.2 13.318 4.3 13.3755 4.4 13.432 4.5 13.4875 4.6 13.542 4.7 13.5955 4.8 13.648 4.9 13.6995 5 13.75 5.1 13.7995 5.2 13.848 5.3 13.8955 5.4 13.942 5.5 13.9875 5.6 14.032 5.7 14.0755 5.8 14.118 5.9 14.1595 6 14.2 6.1 14.2395 6.2 14.278 6.3 14.3155 6.4 14.352 6.5 14.3875 6.6 14.422 6.7 14.4555 6.8 14.488 6.9 14.5195 7 14.55 7.1 14.5795 7.2 14.608 7.3 14.6355 7.4 14.662 7.5 14.6875 7.6 14.712 7.7 14.7355 7.8 14.758 7.9 14.7795 8 14.8 8.1 14.8195 8.2 14.838 8.3 14.8555 8.4 14.872 8.5 14.8875 8.6 14.902 8.7 14.9155 8.8 14.928 8.9 14.9395 9 14.95 9.1 14.9595 9.2 14.968 9.3 14.9755 9.4 14.982 9.5 14.9875 9.6 14.992 9.7 14.9955 9.8 14.998 9.9 14.9995 10 15 10.1 14.9995 10.2 14.998 10.3 14.9955 10.4 14.992 10.5 14.9875 10.6 14.982 10.7 14.9755 10.8 14.968 10.9 14.9595 11 14.95 11.1 14.9395 11.2 14.928 11.3 14.9155 11.4 14.902 11.5 14.8875 11.6 14.872 11.7 14.8555 11.8 14.838 11.9 14.8195 12 14.8 12.1 14.7795 12.2 14.758 12.3 14.7355 12.4 14.712 12.5 14.6875 12.6 14.662 12.7 14.6355 12.8 14.608 12.9 14.5795 13 14.55 13.1 14.5195 13.2 14.488 13.3 14.4555 13.4 14.422 13.5 14.3875 13.6 14.352 13.7 14.3155 13.8 14.278 13.9 14.2395 14 14.2 14.1 14.1595 14.2 14.118 14.3 14.0755 14.4 14.032 14.5 13.9875 14.6 13.942 14.7 13.8955 14.8 13.848 14.9 13.7995 15 13.75 15.1 13.6995 15.2 13.648 15.3 13.5955 15.4 13.542 15.5 13.4875 15.6 13.432 15.7 13.3755 15.8 13.318 15.9 13.2595 16 13.2 16.1 13.1395 16.2 13.078 16.3 13.0155 16.4 12.952 16.5 12.8875 16.6 12.822 16.7 12.7555 16.8 12.688 16.9 12.6195 17 12.55 17.1 12.4795 17.2 12.408 17.3 12.3355 17.4 12.262 17.5 12.1875 17.6 12.112 17.7 12.0355 17.8 11.958 17.9 11.8795 18 11.8 18.1 11.7195 18.2 11.638 18.3 11.5555 18.4 11.472 18.5 11.3875 18.6 11.302 18.7 11.2155 18.8 11.128 18.9 11.0395 19 10.95 19.1 10.8595 19.2 10.768 19.3 10.6755 19.4 10.582 19.5 10.4875 19.6 10.392 19.7 10.2955 19.8 10.198 19.9 10.0995 20 10 20.1 9.8995 20.2 9.798 20.3 9.6955 20.4 9.592 20.5 9.4875 20.6 9.382 20.7 9.2755 20.8 9.168 20.9 9.0595 21 8.95 21.1 8.8395 21.2 8.728 21.3 8.6155 21.4 8.502 21.5 8.3875 21.6 8.272 21.7 8.1555 21.8 8.038 21.9 7.9195 22 7.8 22.1 7.6795 22.2 7.558 22.3 7.4355 22.4 7.312 22.5 7.1875 22.6 7.062 22.7 6.9355 22.8 6.808 22.9 6.6795 23 6.55 23.1 6.4195 23.2 6.288 23.3 6.1555 23.4 6.022 23.5 5.8875 23.6 5.752 23.7 5.6155 23.8 5.478 23.9 5.3395 24 5.2 24.1 5.0595 24.2 4.918 24.3 4.7755 24.4 4.632 24.5 4.4875 24.6 4.342 24.7 4.1955 24.8 4.048 24.9 3.8995 25 3.75 25.1 3.5995 25.2 3.448 25.3 3.2955 25.4 3.142 25.5 2.9875 25.6 2.832 25.7 2.6755 25.8 2.518 25.9 2.3595 26 2.2 26.1 2.0395 26.2 1.878 26.3 1.7155 26.4 1.55201 26.5 1.3875 26.6 1.222 26.7 1.0555 26.8 0.888004 26.9 0.7195 27 0.549999 27.1 0.379497 27.2 0.207996 "
          ]
        }
      ],
      "source": [
        "%%script bash\n",
        "\n",
        "g++ parabolico.cpp -o parabolico\n",
        "./parabolico"
      ]
    },
    {
      "cell_type": "code",
      "execution_count": null,
      "metadata": {
        "colab": {
          "base_uri": "https://localhost:8080/",
          "height": 455
        },
        "id": "BxKUcgiUG4q8",
        "outputId": "235b58b9-ff9e-4ea3-c334-671d42ede0e5"
      },
      "outputs": [
        {
          "data": {
            "image/png": "[encoded data removed]",
            "text/plain": [
              "<Figure size 640x480 with 1 Axes>"
            ]
          },
          "metadata": {},
          "output_type": "display_data"
        }
      ],
      "source": [
        "df = pd.read_csv(\"./x_values.csv\")\n",
        "#df_damped = pd.read_csv(\"./x_values_damped.csv\")\n",
        "x = np.array(df[\"x\"])\n",
        "y = np.array(df[\"y\"])\n",
        "#x_damped = np.array(df_damped[\"x\"])\n",
        "#y_damped = np.array(df_damped[\"y\"])\n",
        "\n",
        "plt.ylim([0, 16])\n",
        "plt.xlim([0, 30])\n",
        "plt.xlabel(\"x(m)\")\n",
        "plt.ylabel(\"y(m)\")\n",
        "plt.plot(x, y)\n",
        "#plt.plot(x_damped, y_damped)\n",
        "plt.show()"
      ]
    },
    {
      "cell_type": "code",
      "execution_count": null,
      "metadata": {
        "id": "ar_lY79vKWqH"
      },
      "outputs": [],
      "source": [
        "%%script bash\n",
        "\n",
        "rm parabolico x_values.csv"
      ]
    },
    {
      "cell_type": "markdown",
      "metadata": {
        "id": "MELZuUDHuP71"
      },
      "source": [
        "## Problema 2\n",
        "\n",
        "Considere un sistema compuesto por una esfera hueca de radio $R$ y masa $M$ que gira sin deslizar la cual está conectada en su centro a un resorte con longitud natural (sin estirar) $l$ del cual cuelga una masa $m$ como se muestra en la figura.\n",
        "\n",
        "![](https://raw.githubusercontent.com/diegour1/MetodosComputacionales2/main/Datafiles/pendulo_resorte_cuerpo_rigido.png)\n",
        "\n",
        "Considere $l_1$, $l_2$, como se muestran en la figura, $f_r$ la fuerza de fricción entre la esfera hueca y la superficie, y $x$, y $y$ como las coordenadas de la masa $m$.\n",
        "\n",
        "a) Demuestre que las ecuaciones de Newton y de ligadura del sistema son las siguientes,\n",
        "\n",
        "\\begin{align}\n",
        "m \\ddot x &= - k(l_2 - l) \\sin{(\\theta)} \\\\\n",
        "m \\ddot y &= - mg + k(l_2 - l) \\cos{(\\theta)} \\\\\n",
        "M \\ddot l_1 &= k(l_2 - l) \\sin{(\\theta)} - f_r \\\\\n",
        "f_r &= \\frac{2}{3}M \\ddot l_1 \\\\\n",
        "\\ddot x &= \\ddot l_1 + \\ddot l_2 \\sin{(\\theta)} + 2 \\dot l_2 \\cos{(\\theta)} \\dot \\theta - l_2 \\sin{(\\theta)} (\\dot \\theta) ^2 + l_2\\cos{(\\theta)} \\ddot \\theta\\\\\n",
        "\\ddot y &= - \\ddot l_2 \\cos{(\\theta)} + 2 \\dot l_2 \\sin{(\\theta)} \\dot \\theta + l_2 \\cos{(\\theta)} (\\dot \\theta) ^2 + l_2\\sin{(\\theta)} \\ddot \\theta\\\\\n",
        "\\end{align}\n",
        "\n",
        "Sus ecuaciones y demonstración aquí,\n",
        "\n",
        "Por sumatoria de fuerzas en m, tenemos que:\n",
        "$$m\\ddot y=  - mg + k(l_2 - l) \\cos{(\\theta)} $$\n",
        "$$  m \\ddot x = - k(l_2 - l) \\sin{(\\theta)} $$\n",
        "\n",
        "Ahora, aplicando sumatoria de fuerzas horizontales en M, es evidente que:\n",
        "$$ M \\ddot l_1 = k(l_2 - l) \\sin{(\\theta)} - f_r $$\n",
        "\n",
        "Por otro lado, si vemos la sumatoria de torques en M:\n",
        "$$ I\\alpha=f_rR$$\n",
        "$$ \\frac{2}{3}MR^2(\\dot\\omega) = f_r R$$\n",
        "Por a condición de rodamiento sin deslizar:\n",
        "$$ V_M=\\omega R$$\n",
        "$$ \\omega =\\frac{V_M}{R}=\\frac{\\dot l_1}{R}$$\n",
        "Reemplazando en la ecuación de los torques:\n",
        "$$ \\frac{2}{3}MR^2(\\frac{\\ddot l_1}{R}) = f_r R $$\n",
        "$$ f_r= \\frac{2}{3}M \\ddot l_1 $$\n",
        ".\n",
        "Notemos que se puede expresar el desplazamiento en x como:\n",
        "$$ x=l_1+ l_2sin(\\theta) $$\n",
        "\n",
        "$$ y= -l_2 cos(\\theta) $$\n",
        "\n",
        "Derivando las dos tenemos:\n",
        "\n",
        "$$ \\dot x=\\dot l_1 + \\dot l_2 sin(\\theta) + l_2 cos(\\theta) \\dot \\theta $$\n",
        "\n",
        "$$ \\dot y= -\\dot l_2 cos(\\theta) + l_2 sin(\\theta) \\dot \\theta$$\n",
        "\n",
        "Derivando por segunda vez:\n",
        "\n",
        "$$\\ddot x = \\ddot l_1 + \\ddot l_2 \\sin{(\\theta)} + 2 \\dot l_2 \\cos{(\\theta)} \\dot \\theta - l_2 \\sin{(\\theta)} (\\dot \\theta) ^2 + l_2\\cos{(\\theta)} \\ddot \\theta$$\n",
        "\n",
        "$$ \\ddot y = - \\ddot l_2 \\cos{(\\theta)} + 2 \\dot l_2 \\sin{(\\theta)} \\dot \\theta + l_2 \\cos{(\\theta)} (\\dot \\theta) ^2 + l_2\\sin{(\\theta)} \\ddot \\theta$$\n",
        ".\n",
        "\n",
        ".\n",
        "\n",
        ".\n",
        "\n",
        ".\n",
        "\n",
        "\n",
        "\n"
      ]
    },
    {
      "cell_type": "markdown",
      "metadata": {
        "id": "nTgb8OMTfB7x"
      },
      "source": [
        "b) Dado que el sistema se puede especificar en términos de solamente las tres coordenadas $(\\theta, l_1, l_2)$ independientes, use la libreria **sympy** para resolver las ecuaciones y demonstrar que se obtiene las tres siguientes ecuaciones diferenciales ordinarias de segundo grado,\n",
        "\n",
        "\\begin{equation}\n",
        "\\ddot \\theta = \\frac{ - 10 Mg\\sin{(\\theta)} - 20M \\dot l_2 \\dot \\theta - 3k(l_2 - l)\\sin{(2\\theta)}}{10Ml_2}\n",
        "\\end{equation}\n",
        "\n",
        "\\begin{equation}\n",
        "\\ddot l_1 = \\frac{3k(l_2 - l)\\sin{(\\theta)}}{5M}\n",
        "\\end{equation}\n",
        "\n",
        "\\begin{equation}\n",
        "\\ddot l_2 = g\\cos{(\\theta)} - \\frac{k(l_2-l)}{m} + l_2(\\dot \\theta)^2 - \\frac{3k (l_2 - l)\\sin^2{(\\theta)}}{5M}\n",
        "\\end{equation}\n",
        "\n",
        "Se deben imprimir las dos ecuaciones resultantes en el notebook."
      ]
    },
    {
      "cell_type": "code",
      "execution_count": 14,
      "metadata": {
        "colab": {
          "base_uri": "https://localhost:8080/",
          "height": 88
        },
        "id": "x5gZt7486AR6",
        "outputId": "32059d75-9dae-4638-e9e7-dbbfac3fd472"
      },
      "outputs": [
        {
          "data": {
            "image/png": "[encoded data removed]",
            "text/latex": [
              "$\\displaystyle \\left\\{ \\ddot \\theta : - \\frac{10.0 M \\dot \\theta \\dot l_{2} \\sin^{2}{\\left(\\theta \\right)}}{5.0 M l_{2} \\sin^{2}{\\left(\\theta \\right)} + 5.0 M l_{2} \\cos^{2}{\\left(\\theta \\right)}} - \\frac{10.0 M \\dot \\theta \\dot l_{2} \\cos^{2}{\\left(\\theta \\right)}}{5.0 M l_{2} \\sin^{2}{\\left(\\theta \\right)} + 5.0 M l_{2} \\cos^{2}{\\left(\\theta \\right)}} - \\frac{5.0 M g \\sin{\\left(\\theta \\right)}}{5.0 M l_{2} \\sin^{2}{\\left(\\theta \\right)} + 5.0 M l_{2} \\cos^{2}{\\left(\\theta \\right)}} + \\frac{3.0 k l \\sin{\\left(\\theta \\right)} \\cos{\\left(\\theta \\right)}}{5.0 M l_{2} \\sin^{2}{\\left(\\theta \\right)} + 5.0 M l_{2} \\cos^{2}{\\left(\\theta \\right)}} - \\frac{3.0 k l_{2} \\sin{\\left(\\theta \\right)} \\cos{\\left(\\theta \\right)}}{5.0 M l_{2} \\sin^{2}{\\left(\\theta \\right)} + 5.0 M l_{2} \\cos^{2}{\\left(\\theta \\right)}}, \\  \\ddot l_{1} : - \\frac{0.6 k l \\sin{\\left(\\theta \\right)}}{M} + \\frac{0.6 k l_{2} \\sin{\\left(\\theta \\right)}}{M}, \\  \\ddot l_{2} : \\frac{5.0 M \\dot \\theta^{2} l_{2} m \\sin^{2}{\\left(\\theta \\right)}}{5.0 M m \\sin^{2}{\\left(\\theta \\right)} + 5.0 M m \\cos^{2}{\\left(\\theta \\right)}} + \\frac{5.0 M \\dot \\theta^{2} l_{2} m \\cos^{2}{\\left(\\theta \\right)}}{5.0 M m \\sin^{2}{\\left(\\theta \\right)} + 5.0 M m \\cos^{2}{\\left(\\theta \\right)}} + \\frac{5.0 M g m \\cos{\\left(\\theta \\right)}}{5.0 M m \\sin^{2}{\\left(\\theta \\right)} + 5.0 M m \\cos^{2}{\\left(\\theta \\right)}} + \\frac{5.0 M k l \\sin^{2}{\\left(\\theta \\right)}}{5.0 M m \\sin^{2}{\\left(\\theta \\right)} + 5.0 M m \\cos^{2}{\\left(\\theta \\right)}} + \\frac{5.0 M k l \\cos^{2}{\\left(\\theta \\right)}}{5.0 M m \\sin^{2}{\\left(\\theta \\right)} + 5.0 M m \\cos^{2}{\\left(\\theta \\right)}} - \\frac{5.0 M k l_{2} \\sin^{2}{\\left(\\theta \\right)}}{5.0 M m \\sin^{2}{\\left(\\theta \\right)} + 5.0 M m \\cos^{2}{\\left(\\theta \\right)}} - \\frac{5.0 M k l_{2} \\cos^{2}{\\left(\\theta \\right)}}{5.0 M m \\sin^{2}{\\left(\\theta \\right)} + 5.0 M m \\cos^{2}{\\left(\\theta \\right)}} + \\frac{3.0 k l m \\sin^{2}{\\left(\\theta \\right)}}{5.0 M m \\sin^{2}{\\left(\\theta \\right)} + 5.0 M m \\cos^{2}{\\left(\\theta \\right)}} - \\frac{3.0 k l_{2} m \\sin^{2}{\\left(\\theta \\right)}}{5.0 M m \\sin^{2}{\\left(\\theta \\right)} + 5.0 M m \\cos^{2}{\\left(\\theta \\right)}}\\right\\}$"
            ],
            "text/plain": [
              "⎧                                                 2                           \n",
              "⎪                   10.0⋅M⋅\\dot \\theta⋅\\dot l₂⋅sin (\\theta)         10.0⋅M⋅\\do\n",
              "⎨\\ddot \\theta: - ───────────────────────────────────────────── - ─────────────\n",
              "⎪                            2                       2                       2\n",
              "⎩                5.0⋅M⋅l₂⋅sin (\\theta) + 5.0⋅M⋅l₂⋅cos (\\theta)   5.0⋅M⋅l₂⋅sin \n",
              "\n",
              "                    2                                                         \n",
              "t \\theta⋅\\dot l₂⋅cos (\\theta)                   5.0⋅M⋅g⋅sin(\\theta)           \n",
              "──────────────────────────────── - ───────────────────────────────────────────\n",
              "                       2                       2                       2      \n",
              "(\\theta) + 5.0⋅M⋅l₂⋅cos (\\theta)   5.0⋅M⋅l₂⋅sin (\\theta) + 5.0⋅M⋅l₂⋅cos (\\thet\n",
              "\n",
              "                                                                              \n",
              "            3.0⋅k⋅l⋅sin(\\theta)⋅cos(\\theta)                 3.0⋅k⋅l₂⋅sin(\\thet\n",
              "── + ───────────────────────────────────────────── - ─────────────────────────\n",
              "                 2                       2                       2            \n",
              "a)   5.0⋅M⋅l₂⋅sin (\\theta) + 5.0⋅M⋅l₂⋅cos (\\theta)   5.0⋅M⋅l₂⋅sin (\\theta) + 5\n",
              "\n",
              "                                                                              \n",
              "a)⋅cos(\\theta)                    0.6⋅k⋅l⋅sin(\\theta)   0.6⋅k⋅l₂⋅sin(\\theta)  \n",
              "────────────────────, \\ddot l₁: - ─────────────────── + ────────────────────, \n",
              "           2                               M                     M            \n",
              ".0⋅M⋅l₂⋅cos (\\theta)                                                          \n",
              "\n",
              "                               2         2                                   2\n",
              "              5.0⋅M⋅\\dot \\theta ⋅l₂⋅m⋅sin (\\theta)          5.0⋅M⋅\\dot \\theta \n",
              "\\ddot l₂: ─────────────────────────────────────────── + ──────────────────────\n",
              "                     2                      2                      2          \n",
              "          5.0⋅M⋅m⋅sin (\\theta) + 5.0⋅M⋅m⋅cos (\\theta)   5.0⋅M⋅m⋅sin (\\theta) +\n",
              "\n",
              "         2                                                                    \n",
              "⋅l₂⋅m⋅cos (\\theta)                 5.0⋅M⋅g⋅m⋅cos(\\theta)                      \n",
              "───────────────────── + ─────────────────────────────────────────── + ────────\n",
              "            2                      2                      2                   \n",
              " 5.0⋅M⋅m⋅cos (\\theta)   5.0⋅M⋅m⋅sin (\\theta) + 5.0⋅M⋅m⋅cos (\\theta)   5.0⋅M⋅m⋅\n",
              "\n",
              "                2                                             2               \n",
              "   5.0⋅M⋅k⋅l⋅sin (\\theta)                        5.0⋅M⋅k⋅l⋅cos (\\theta)       \n",
              "─────────────────────────────────── + ────────────────────────────────────────\n",
              "   2                      2                      2                      2     \n",
              "sin (\\theta) + 5.0⋅M⋅m⋅cos (\\theta)   5.0⋅M⋅m⋅sin (\\theta) + 5.0⋅M⋅m⋅cos (\\the\n",
              "\n",
              "                              2                                             2 \n",
              "                5.0⋅M⋅k⋅l₂⋅sin (\\theta)                       5.0⋅M⋅k⋅l₂⋅cos (\n",
              "─── - ─────────────────────────────────────────── - ──────────────────────────\n",
              "                 2                      2                      2              \n",
              "ta)   5.0⋅M⋅m⋅sin (\\theta) + 5.0⋅M⋅m⋅cos (\\theta)   5.0⋅M⋅m⋅sin (\\theta) + 5.0\n",
              "\n",
              "                                            2                                 \n",
              "\\theta)                        3.0⋅k⋅l⋅m⋅sin (\\theta)                       3.\n",
              "───────────────── + ─────────────────────────────────────────── - ────────────\n",
              "        2                      2                      2                      2\n",
              "⋅M⋅m⋅cos (\\theta)   5.0⋅M⋅m⋅sin (\\theta) + 5.0⋅M⋅m⋅cos (\\theta)   5.0⋅M⋅m⋅sin \n",
              "\n",
              "            2                  ⎫\n",
              "0⋅k⋅l₂⋅m⋅sin (\\theta)          ⎪\n",
              "───────────────────────────────⎬\n",
              "                      2        ⎪\n",
              "(\\theta) + 5.0⋅M⋅m⋅cos (\\theta)⎭"
            ]
          },
          "execution_count": 14,
          "metadata": {},
          "output_type": "execute_result"
        }
      ],
      "source": [
        "## Su codigo aqui\n",
        "\n",
        "from sympy import sin, cos\n",
        "\n",
        "x_pp=sym.Symbol(\"\\ddot x\",real=True)\n",
        "y_pp=sym.Symbol(\"\\ddot y\",real=True)\n",
        "m=sym.Symbol(\"m\",real=True)\n",
        "M=sym.Symbol(\"M\",real=True)\n",
        "k=sym.Symbol(\"k\",real=True)\n",
        "theta=sym.Symbol(r'\\theta',real=True)\n",
        "theta_p=sym.Symbol(r'\\dot \\theta',real=True)\n",
        "theta_pp=sym.Symbol(r'\\ddot \\theta',real=True)\n",
        "g=sym.Symbol(\"g\",real=True)\n",
        "fr=sym.Symbol(\"f_r\",real=True)\n",
        "l_1=sym.Symbol(\"l_1\",real=True)\n",
        "l_1_p=sym.Symbol(\"\\dot l_1\",real=True)\n",
        "l_1_pp=sym.Symbol(\"\\ddot l_1\",real=True)\n",
        "l_2=sym.Symbol(\"l_2\",real=True)\n",
        "l_2_p=sym.Symbol(\"\\dot l_2\",real=True)\n",
        "l_2_pp=sym.Symbol(\"\\ddot l_2\",real=True)\n",
        "l=sym.Symbol(\"l\",real=True)\n",
        "#dos_tercios=sym.Symbol(r'\\frac{2}{3}')\n",
        "\n",
        "ec1=-m*(l_1_pp + l_2_pp* sin(theta) + 2 *l_2_p *cos(theta) *theta_p - l_2* sin(theta)* (theta_p)**2 + l_2*cos(theta) *theta_pp) - k*(l_2 - l)*sin(theta)\n",
        "ec2=-m * (- l_2_pp *cos(theta) + 2 * l_2_p *sin(theta)* theta_p + l_2* cos(theta)* (theta_p)**2 + l_2*sin(theta)* theta_pp)  - m*g + k*(l_2 - l) *cos(theta)\n",
        "ec3=-M * l_1_pp + k*(l_2 - l) *sin(theta) - (2/3)*M * l_1_pp\n",
        "#ec4=-fr +2/3*M * l_1_pp\n",
        "#ec5=-x_pp +l_1_pp + l_2_pp* sin(theta) + 2 *l_2_p *cos(theta) *theta_p - l_2* sin(theta)* (theta_p)**2 + l_2*cos(theta) *theta_pp\n",
        "#ec6= -y_pp - l_2_pp *cos(theta) + 2 * l_2_p *sin(theta)* theta_p + l_2* cos(theta)* (theta_p)**2 + l_2*sin(theta)* theta_pp\n",
        "\n",
        "sol=sym.solve([ec1,ec2,ec3],theta_pp,l_1_pp,l_2_pp)\n",
        "sym.simplify(sol)\n",
        "\n",
        "\n"
      ]
    },
    {
      "cell_type": "markdown",
      "metadata": {
        "id": "TtDSGwXXOzhk"
      },
      "source": [
        "## Problema 3\n",
        "\n",
        "A partir de las ecuaciones de segundo grado del problema 1, resuelva las ecuaciones diferenciales anteriores con un tiempo total de 5 segundos y pasos $dt$ de 0.005 segundos, con el método de Runge-Kutta (de 4-to u 8-vo orden) y realice una simulación del movimiento, el resultado esperado debe verse como la siguiente simulación,\n",
        "\n",
        "(Cambie el siguiente link de youtube por su simulación)\n",
        "\n",
        "https://www.youtube.com/watch?v=JiHAw8IXkuU\n",
        "\n",
        "Para la simulación use los siguientes parametros:\n",
        "\n",
        "$l = 1 \\text{ m}, \\quad R = 0.2 \\text{ m}, \\quad l_1(t=0) = -1.5 \\text{ m}, \\quad l_2(t=0) = 1 \\text{ m}, \\quad \\dot l_1(t=0) = 0.4 \\text{ m/s}, \\quad \\dot l_2(t=0) = 0 \\text{ m/s}, \\quad m = 8 \\text{ kg}, \\quad M = 10 \\text{ kg}, \\quad k = 300 \\text{ N/m}, \\quad \\theta(t=0)= 70^\\circ, \\quad \\dot \\theta(t=0)= 0 \\text{ rad/s}, \\quad dt = 0.005 \\text{s}, \\quad t_{\\text{total}} = 5 \\text{ s}$."
      ]
    },
    {
      "cell_type": "code",
      "execution_count": 19,
      "metadata": {
        "id": "TCxokLd6-pTY"
      },
      "outputs": [],
      "source": [
        "\n",
        "#parámetros\n",
        "g_par = 9.8 # m/s^2\n",
        "m_par = 8. # kg\n",
        "M_par = 10. # kg\n",
        "k_par = 300. # N/m\n",
        "l_par = 1. # m longitud natural del resorte sin estirar\n",
        "R_par = 0.2 # m radio de la esfera hueca\n",
        "tiempo = 5. # s\n",
        "puntos = int(tiempo*200) # numero de puntos a evaluar en la trayectoria\n",
        "\n",
        "# condiciones iniciales\n",
        "theta_init = 70. * np.pi/180. # angulo inicial respecto a la vertical (rad)\n",
        "l1_init = -1.5 # m Posicion inicial de la masa M\n",
        "l2_init = 1. # m longitud inicial del resorte\n",
        "v1_init = 0.4 # m/s Velocidad inicial la masa M\n",
        "v2_init = 0. # m/s Velocidad inicial la masa m\n",
        "omega_init = 0.0 # velocidad angular inicial respecto a la vertical de la masa colgada (rad/s)\n",
        "\n",
        "\n",
        "THETA_pp=sym.lambdify([M,theta,theta_p,l_1,l_1_p,l_2,l_2_p,l,k,g],sol[theta_pp])\n",
        "L1_pp=sym.lambdify([M,theta,l_2,l,k],sol[l_1_pp])\n",
        "L2_pp=sym.lambdify([M,m,theta,theta_p,l_1,l_2,l,k,g],sol[l_2_pp])\n",
        "\n",
        "def f1(theta,omega,t):\n",
        "  return THETA_pp(M_par,theta,omega,l1_init,v1_init,l2_init,v2_init,l_par,k_par,g_par)\n",
        "\n",
        "def f2(l_1,v_1,t):\n",
        "  return L1_pp(M_par,theta_init,l2_init,l_par,k_par)\n",
        "\n",
        "def f3(l_2,v_2,t):\n",
        "  return L1_pp(M_par,m_par,theta_init,omega_init,l1_init,l_2,l_par,k_par,g_par)\n",
        "\n",
        "def rgk4(f, x0, dx0, t0, tf, h):\n",
        "  xs = [x0]\n",
        "  dxs=[dx0]\n",
        "  h_medios = h*0.5\n",
        "  un_sexto = 1.0 / 6.0\n",
        "  for t in np.arange(t0, tf, h):\n",
        "    \n",
        "    k1=h*dx0\n",
        "    l1 = h * f(x0,dx0,t)\n",
        "    \n",
        "    k2=h*(dx0+0.5*l1)\n",
        "    l2 = h * f(x0 + 0.5*k1,dx0+0.5*l1,t+h_medios)\n",
        "    \n",
        "    k3=h*(dx0+0.5*l2)\n",
        "    l3 =h * f(x0 + 0.5*k2,dx0+0.5*l2,t+h_medios)\n",
        "    \n",
        "    k4=h*(dx0+l3)\n",
        "    l4 =h * f(x0 + k3,dx0+l3,t+h)\n",
        "    x1 = x0 + un_sexto*(k1 + 2*k2 + 2*k3 + k4)\n",
        "    xs.append(x1)\n",
        "    x0 = x1\n",
        "\n",
        "    dx1 = dx0 + un_sexto*(l1+2*l2+2*l3+l4)\n",
        "    dxs.append(dx1)\n",
        "    dx0=dx1\n",
        "\n",
        "      \n",
        "  return np.linspace(t0,tf,len(xs)), np.array(xs)\n",
        "\n",
        "\n",
        "t,theta_arr=rgk4(f1,theta_init,omega_init,0,5,0.005)\n"
      ]
    },
    {
      "cell_type": "code",
      "execution_count": null,
      "metadata": {
        "id": "8D2tkotwRJMO"
      },
      "outputs": [],
      "source": [
        "## su simulación aqui\n",
        "\n",
        "\n",
        "start_time = time.time()\n",
        "crear_animacion(data, 0, l, m, M, tiempo,fps,'sistema_pendulo_resorte_cuerporigido.gif')\n",
        "#print(\"Tiempo usado en crear la animación (s):\",time.time() - start_time)"
      ]
    },
    {
      "cell_type": "code",
      "execution_count": null,
      "metadata": {
        "colab": {
          "base_uri": "https://localhost:8080/"
        },
        "id": "ZhOJS44qiStr",
        "outputId": "b61e4125-8d14-4e82-dbc1-cf4f5a9fe0ab"
      },
      "outputs": [
        {
          "name": "stdout",
          "output_type": "stream",
          "text": [
            "Tiempo usado en crear la animación (s): 11.294831991195679\n"
          ]
        }
      ],
      "source": [
        "# use el siguiente codigo para evaluar el tiempo de su simulacion\n",
        "\n",
        "print(\"Tiempo usado en crear la animación (s):\",time.time() - start_time)"
      ]
    }
  ],
  "metadata": {
    "colab": {
      "provenance": []
    },
    "kernelspec": {
      "display_name": "Python 3",
      "name": "python3"
    },
    "language_info": {
      "codemirror_mode": {
        "name": "ipython",
        "version": 3
      },
      "file_extension": ".py",
      "mimetype": "text/x-python",
      "name": "python",
      "nbconvert_exporter": "python",
      "pygments_lexer": "ipython3",
      "version": "3.8.8"
    }
  },
  "nbformat": 4,
  "nbformat_minor": 0
}
