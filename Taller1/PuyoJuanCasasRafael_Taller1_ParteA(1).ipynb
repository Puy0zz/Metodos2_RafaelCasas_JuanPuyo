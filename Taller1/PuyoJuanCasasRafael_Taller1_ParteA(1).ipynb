{
  "cells": [
    {
      "cell_type": "markdown",
      "metadata": {
        "id": "0Z8Dn_z6Mb9b"
      },
      "source": [
        "# Taller 1 Parte A\n",
        "\n",
        "## Métodos Computacionales 2 2023-20\n",
        "\n",
        "Instrucciones: Suba el jupyter notebook **.ipynb** en la actividad de bloque neon. El archivo debe ser nombrado ApellidoNombreApellidoNombre_Taller1_ParteA.ipynb, con su primer Apellido y Nombre de cada integrante de la pareja. **El archivo debe poder correr en el binder del curso**\n",
        "\n",
        "Si un ejercicio demora **más de 10 segundos** en correr se considerará **incorrecto**.\n",
        "\n",
        "No modifique el cuaderno, ni los modos de lectura de los archivos.\n",
        "\n",
        "**Entrega: Viernes 25 de Agosto 11:59 pm**"
      ]
    },
    {
      "cell_type": "markdown",
      "metadata": {
        "id": "TtDSGwXXOzhk"
      },
      "source": [
        "## Problema 1\n",
        "\n",
        "Cree un programa en `C++`, que resuelva numéricamente (no se vale solución análitica) el siguiente problema de tiro parabólico, incluya el código en la función `float parabolic(float H_param, float v_param)` de abajo. Dada la altura $H$ y la velocidad inicial $v$ de una pelota, calcule el ángulo $\\theta$ que se debe lanzar la pelota para que esta llegue lo más lejos posible del punto de lanzamiento en la dirección x cuando esta toca el piso $H = 0$. La altura H y la velocidad $v$ se deben ingresar como entradas del programa en ese orden, primero altura luego velocidad, la salida es un float correspondiente al ángulo. El ángulo debe tener una exactitud de un decimal y debe estar reportado en grados. La altura se debe ingresar en m, la velocidad en m/s y tome la gravedad igual a $9.8m/s^2$.\n",
        "\n",
        "No modifique la función main la cuál va a ser usada para evaluar la validez de la solución."
      ]
    },
    {
      "cell_type": "code",
      "source": [
        "%%writefile tiro_parabolico.cpp\n",
        "\n",
        "#include <iostream>\n",
        "#include <math.h>\n",
        "using namespace std;\n",
        "\n",
        "float parabolic(float H_param, float v_param)\n",
        "{\n",
        "    // su codigo aqui\n",
        "\n",
        "}\n",
        "\n",
        "int main() {\n",
        "    float H_1 = 10.0;\n",
        "    float v_1 = 5.0;\n",
        "    cout << \"The angle of maximum distance in case 1 is: \" << parabolic(H_1, v_1) << endl;\n",
        "\n",
        "    float H_2 = 0.0;\n",
        "    float v_2 = 30.0;\n",
        "    cout << \"The angle of maximum distance in case 2 is: \" << parabolic(H_2, v_2) << endl;\n",
        "\n",
        "    float H_3 = 20.0;\n",
        "    float v_3 = 50.0;\n",
        "    cout << \"The angle of maximum distance in case 3 is: \" << parabolic(H_3, v_3) << endl;\n",
        "\n",
        "    return 0;\n",
        "}"
      ],
      "metadata": {
        "colab": {
          "base_uri": "https://localhost:8080/"
        },
        "id": "cT1p4cpH8fJo",
        "outputId": "f60f466f-2b33-422b-8d64-f39cfec56f05"
      },
      "execution_count": 1,
      "outputs": [
        {
          "output_type": "stream",
          "name": "stdout",
          "text": [
            "Writing tiro_parabolico.cpp\n"
          ]
        }
      ]
    },
    {
      "cell_type": "code",
      "source": [
        "%%script bash\n",
        "\n",
        "g++ tiro_parabolico.cpp -o tiro_parabolico\n",
        "./tiro_parabolico"
      ],
      "metadata": {
        "id": "zfxv80gGOLZR"
      },
      "execution_count": null,
      "outputs": []
    },
    {
      "cell_type": "markdown",
      "source": [
        "Cómo resolveria el problema de forma análitica? (no se califica)\n",
        "\n",
        ".\n",
        "\n",
        ".\n",
        "\n",
        ".\n",
        "\n",
        "."
      ],
      "metadata": {
        "id": "mTHJ9Eh0v-Lc"
      }
    },
    {
      "cell_type": "markdown",
      "source": [
        "## Problema 2\n",
        "\n",
        "Cree una función en `C++`, que tenga la siguiente signatura:\n",
        "\n",
        "`void sort(int* ptrA, int* ptrB, int* ptrC)`\n",
        "\n",
        "la cual dados tres punteros de enteros reasigne los valores de `a`, `b`, y `c`, de menor a mayor, es decir, `a` sería el menor, `b` sería el del medio, y `c` sería el mayor. Pueden haber también enteros iguales.\n",
        "\n",
        "No modifique la parte de la función `main()` que realiza los casos de prueba como se encuentra en el archivo."
      ],
      "metadata": {
        "id": "xWbz0ud79j38"
      }
    },
    {
      "cell_type": "code",
      "source": [
        "%%writefile sort.cpp\n",
        "\n",
        "#include <iostream>\n",
        "#include <string>\n",
        "using namespace std;\n",
        "\n",
        "void sort(int* ptrA, int* ptrB, int* ptrC)\n",
        "{\n",
        "    // su codigo aqui\n",
        "\n",
        "\n",
        "}\n",
        "\n",
        "int main() {\n",
        "\n",
        "    int a = 5, b = 3, c = 4;\n",
        "    cout << \"Initial Numbers\" << endl;\n",
        "    cout << a << \" \" << b << \" \" << c << endl;\n",
        "    cout << \"Sorting: \" << endl;\n",
        "    sort(&a, &b, &c);\n",
        "    cout << a << \" \" << b << \" \" << c << endl;\n",
        "\n",
        "    int d = 500, e = 300, f = 150;\n",
        "    cout << \"Initial Numbers\" << endl;\n",
        "    cout << d << \" \" << e << \" \" << f << endl;\n",
        "    cout << \"Sorting: \" << endl;\n",
        "    sort(&d, &e, &f);\n",
        "    cout << d << \" \" << e << \" \" << f << endl;\n",
        "\n",
        "    int g = 156, h = 121, i = 121;\n",
        "    cout << \"Initial Numbers\" << endl;\n",
        "    cout << g << \" \" << h << \" \" << i << endl;\n",
        "    cout << \"Sorting: \" << endl;\n",
        "    sort(&g, &h, &i);\n",
        "    cout << g << \" \" << h << \" \" << i << endl;\n",
        "\n",
        "    int j = 102, k = 105, l = 221;\n",
        "    cout << \"Initial Numbers\" << endl;\n",
        "    cout << j << \" \" << k << \" \" << l << endl;\n",
        "    cout << \"Sorting: \" << endl;\n",
        "    sort(&j, &k, &l);\n",
        "    cout << j << \" \" << k << \" \" << l << endl;\n",
        "\n",
        "    return 0;\n",
        "}\n"
      ],
      "metadata": {
        "colab": {
          "base_uri": "https://localhost:8080/"
        },
        "id": "5jChkoGd-UQW",
        "outputId": "07867ace-0bd4-4b4f-8d32-ea2930529aaa"
      },
      "execution_count": null,
      "outputs": [
        {
          "output_type": "stream",
          "name": "stdout",
          "text": [
            "Writing sort.cpp\n"
          ]
        }
      ]
    },
    {
      "cell_type": "code",
      "source": [
        "%%script bash\n",
        "\n",
        "g++ sort.cpp -o sort\n",
        "./sort"
      ],
      "metadata": {
        "id": "KaOtxtslP-Ti"
      },
      "execution_count": null,
      "outputs": []
    }
  ],
  "metadata": {
    "colab": {
      "provenance": []
    },
    "kernelspec": {
      "display_name": "Python 3",
      "name": "python3"
    }
  },
  "nbformat": 4,
  "nbformat_minor": 0
}